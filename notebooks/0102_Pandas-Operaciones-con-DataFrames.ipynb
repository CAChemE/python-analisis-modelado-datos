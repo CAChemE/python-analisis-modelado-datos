{
 "cells": [
  {
   "cell_type": "markdown",
   "metadata": {},
   "source": [
    "# Curso de introducción al análisis y modelado de datos con Python \n",
    "\n",
    "<img src=\"../images/cacheme.png\" alt=\"logo\" style=\"width: 150px;\"/>\n",
    "<img src=\"../images/aeropython_logo.png\" alt=\"logo\" style=\"width: 115px;\"/>"
   ]
  },
  {
   "cell_type": "markdown",
   "metadata": {},
   "source": [
    "---"
   ]
  },
  {
   "cell_type": "markdown",
   "metadata": {},
   "source": [
    "# Pandas: Funciones rolling y operaciones con DataFrames"
   ]
  },
  {
   "cell_type": "markdown",
   "metadata": {},
   "source": [
    "En este notebook trabajaremos sobre los mismos datos que la introducción a pandas. Veremos como usar el método rolling para obtener resultados como la media móvil, la desviación típica móvil... Además veremos como agrupar los datos usando `groupby` y cómo pivotar tablas."
   ]
  },
  {
   "cell_type": "code",
   "execution_count": 1,
   "metadata": {},
   "outputs": [],
   "source": [
    "%matplotlib inline\n",
    "import pandas as pd"
   ]
  },
  {
   "cell_type": "markdown",
   "metadata": {},
   "source": [
    "## Cargando los datos"
   ]
  },
  {
   "cell_type": "markdown",
   "metadata": {},
   "source": [
    "Trabajaremos sobre un fichero de datos metereológicos de la Consejeria Agricultura, Pesca y Desarrollo Rural de Andalucía."
   ]
  },
  {
   "cell_type": "code",
   "execution_count": 2,
   "metadata": {},
   "outputs": [
    {
     "data": {
      "text/html": [
       "<iframe src=\"http://www.juntadeandalucia.es/agriculturaypesca/ifapa/ria/servlet/FrontController?action=Static&url=coordenadas.jsp&c_provincia=4&c_estacion=4\" width=\"700\" height=\"400\"></iframe>"
      ],
      "text/plain": [
       "<IPython.core.display.HTML object>"
      ]
     },
     "execution_count": 2,
     "metadata": {},
     "output_type": "execute_result"
    }
   ],
   "source": [
    "# preserve\n",
    "from IPython.display import HTML\n",
    "HTML('<iframe src=\"http://www.juntadeandalucia.es/agriculturaypesca/ifapa/ria/servlet/FrontController?action=Static&url=coordenadas.jsp&c_provincia=4&c_estacion=4\" width=\"700\" height=\"400\"></iframe>')"
   ]
  },
  {
   "cell_type": "markdown",
   "metadata": {},
   "source": [
    "Vemos que pinta tiene el fichero:"
   ]
  },
  {
   "cell_type": "code",
   "execution_count": 3,
   "metadata": {},
   "outputs": [],
   "source": [
    "# en Linux\n",
    "# !head ../data/tabernas_meteo_data.txt"
   ]
  },
  {
   "cell_type": "code",
   "execution_count": 4,
   "metadata": {},
   "outputs": [],
   "source": [
    "# en Windows\n",
    "# !more ..\\data\\tabernas_meteo_data.txt"
   ]
  },
  {
   "cell_type": "markdown",
   "metadata": {},
   "source": [
    "Tenemos que hacer los siguientes cambios:\n",
    "* Separar los campos por un número arbitrario de espacios en blanco\n",
    "* Saltar las primeras lineas.\n",
    "* Dar nombre a las nuevas columnas.\n",
    "* Descartar columna del día del año (no nos interesa).\n",
    "* Convertir las fechas al formato correcto."
   ]
  },
  {
   "cell_type": "code",
   "execution_count": 5,
   "metadata": {},
   "outputs": [
    {
     "data": {
      "text/html": [
       "<div>\n",
       "<style scoped>\n",
       "    .dataframe tbody tr th:only-of-type {\n",
       "        vertical-align: middle;\n",
       "    }\n",
       "\n",
       "    .dataframe tbody tr th {\n",
       "        vertical-align: top;\n",
       "    }\n",
       "\n",
       "    .dataframe thead th {\n",
       "        text-align: right;\n",
       "    }\n",
       "</style>\n",
       "<table border=\"1\" class=\"dataframe\">\n",
       "  <thead>\n",
       "    <tr style=\"text-align: right;\">\n",
       "      <th></th>\n",
       "      <th>TMAX</th>\n",
       "      <th>TMIN</th>\n",
       "      <th>TMED</th>\n",
       "      <th>PRECIP</th>\n",
       "    </tr>\n",
       "    <tr>\n",
       "      <th>DATE</th>\n",
       "      <th></th>\n",
       "      <th></th>\n",
       "      <th></th>\n",
       "      <th></th>\n",
       "    </tr>\n",
       "  </thead>\n",
       "  <tbody>\n",
       "    <tr>\n",
       "      <th>2016-12-13</th>\n",
       "      <td>14.6</td>\n",
       "      <td>4.0</td>\n",
       "      <td>8.9</td>\n",
       "      <td>0.2</td>\n",
       "    </tr>\n",
       "    <tr>\n",
       "      <th>2016-12-12</th>\n",
       "      <td>15.9</td>\n",
       "      <td>3.0</td>\n",
       "      <td>8.7</td>\n",
       "      <td>0.2</td>\n",
       "    </tr>\n",
       "    <tr>\n",
       "      <th>2016-12-11</th>\n",
       "      <td>16.9</td>\n",
       "      <td>5.0</td>\n",
       "      <td>10.2</td>\n",
       "      <td>0.2</td>\n",
       "    </tr>\n",
       "    <tr>\n",
       "      <th>2016-12-10</th>\n",
       "      <td>16.4</td>\n",
       "      <td>6.3</td>\n",
       "      <td>10.9</td>\n",
       "      <td>0.2</td>\n",
       "    </tr>\n",
       "    <tr>\n",
       "      <th>2016-12-09</th>\n",
       "      <td>13.6</td>\n",
       "      <td>9.5</td>\n",
       "      <td>11.2</td>\n",
       "      <td>1.8</td>\n",
       "    </tr>\n",
       "  </tbody>\n",
       "</table>\n",
       "</div>"
      ],
      "text/plain": [
       "            TMAX  TMIN  TMED  PRECIP\n",
       "DATE                                \n",
       "2016-12-13  14.6   4.0   8.9     0.2\n",
       "2016-12-12  15.9   3.0   8.7     0.2\n",
       "2016-12-11  16.9   5.0  10.2     0.2\n",
       "2016-12-10  16.4   6.3  10.9     0.2\n",
       "2016-12-09  13.6   9.5  11.2     1.8"
      ]
     },
     "execution_count": 5,
     "metadata": {},
     "output_type": "execute_result"
    }
   ],
   "source": [
    "# leo con el formato adecuado\n",
    "data = pd.read_csv(\n",
    "    \"../data/tabernas_meteo_data.txt\",\n",
    "    delim_whitespace=True,\n",
    "    #sep ='\\s+',\n",
    "    usecols=(0, 2, 3, 4, 5),\n",
    "    skiprows=2,            \n",
    "    names=['DATE', 'TMAX', 'TMIN', 'TMED', 'PRECIP'],\n",
    "    parse_dates=['DATE'],\n",
    "    dayfirst=True,  \n",
    "    # date_parser=lambda x: pd.datetime.strptime(x, '%d-%m-%Y'), # parseo manual   \n",
    "    index_col=['DATE']\n",
    "    )\n",
    "\n",
    "data.head(5)"
   ]
  },
  {
   "cell_type": "markdown",
   "metadata": {},
   "source": [
    "<div class=\"alert alert-info\">Para acordarnos de cómo parsear las fechas: http://strftime.org/</div>"
   ]
  },
  {
   "cell_type": "code",
   "execution_count": 6,
   "metadata": {},
   "outputs": [],
   "source": [
    "data.sort_index(inplace=True)"
   ]
  },
  {
   "cell_type": "markdown",
   "metadata": {},
   "source": [
    "### Funciones \"rolling\" "
   ]
  },
  {
   "cell_type": "markdown",
   "metadata": {},
   "source": [
    "Ya sabemos obtener representaciones gráficas de nuestros de datos. Visualicemos, por ejemplo, la evolución de la temperatura media a lo lardo de los años 2014 y 2015:"
   ]
  },
  {
   "cell_type": "code",
   "execution_count": 7,
   "metadata": {},
   "outputs": [
    {
     "data": {
      "text/plain": [
       "<matplotlib.axes._subplots.AxesSubplot at 0x7f63b46bb208>"
      ]
     },
     "execution_count": 7,
     "metadata": {},
     "output_type": "execute_result"
    },
    {
     "data": {
      "image/png": "[encoded data removed]",
      "text/plain": [
       "<matplotlib.figure.Figure at 0x7f63b4f87d68>"
      ]
     },
     "metadata": {},
     "output_type": "display_data"
    }
   ],
   "source": [
    "data.loc['2014-01-01':'2015-12-31'].plot(y='TMED')"
   ]
  },
  {
   "cell_type": "markdown",
   "metadata": {},
   "source": [
    "Se puede apreciar la oscilación a lo largo del año. Sin embargo, las variaciones locales de temperatura de determinados días \"ensucian\" nuestra representación. Una opción es \"suavizar\" la curva utilizando una media móvil"
   ]
  },
  {
   "cell_type": "markdown",
   "metadata": {},
   "source": [
    "Pandas proporciona métodos para calcular magnitudes como medias móviles usando el método `rolling`:"
   ]
  },
  {
   "cell_type": "code",
   "execution_count": 8,
   "metadata": {},
   "outputs": [
    {
     "data": {
      "text/plain": [
       "DATE\n",
       "2004-01-01    11.1\n",
       "2004-01-02    10.6\n",
       "2004-01-03     7.9\n",
       "2004-01-04     7.2\n",
       "2004-01-05     7.1\n",
       "2004-01-06     NaN\n",
       "2004-01-07     8.3\n",
       "2004-01-08    13.0\n",
       "2004-01-09    14.0\n",
       "2004-01-10    12.2\n",
       "2004-01-11    12.5\n",
       "2004-01-12    11.3\n",
       "2004-01-13    10.9\n",
       "2004-01-14    11.0\n",
       "2004-01-15     9.0\n",
       "Name: TMED, dtype: float64"
      ]
     },
     "execution_count": 8,
     "metadata": {},
     "output_type": "execute_result"
    }
   ],
   "source": [
    "# Calcular la media de la columna TMEAD\n",
    "data.TMED.head(15)"
   ]
  },
  {
   "cell_type": "code",
   "execution_count": 9,
   "metadata": {},
   "outputs": [
    {
     "data": {
      "text/plain": [
       "DATE\n",
       "2004-01-01          NaN\n",
       "2004-01-02          NaN\n",
       "2004-01-03          NaN\n",
       "2004-01-04          NaN\n",
       "2004-01-05          NaN\n",
       "2004-01-06          NaN\n",
       "2004-01-07          NaN\n",
       "2004-01-08          NaN\n",
       "2004-01-09          NaN\n",
       "2004-01-10    11.742857\n",
       "2004-01-11    12.128571\n",
       "2004-01-12    11.557143\n",
       "2004-01-13    10.900000\n",
       "2004-01-14    10.528571\n",
       "2004-01-15     9.928571\n",
       "Name: TMED, dtype: float64"
      ]
     },
     "execution_count": 9,
     "metadata": {},
     "output_type": "execute_result"
    }
   ],
   "source": [
    "# Media centrada (semanal/mensual/trimestral)\n",
    "data.TMED.rolling(7, center=True).mean().head(15)"
   ]
  },
  {
   "cell_type": "code",
   "execution_count": 10,
   "metadata": {},
   "outputs": [
    {
     "data": {
      "text/plain": [
       "<matplotlib.axes._subplots.AxesSubplot at 0x7f63b25e00f0>"
      ]
     },
     "execution_count": 10,
     "metadata": {},
     "output_type": "execute_result"
    },
    {
     "data": {
      "image/png": "[encoded data removed]",
      "text/plain": [
       "<matplotlib.figure.Figure at 0x7f63b2642278>"
      ]
     },
     "metadata": {},
     "output_type": "display_data"
    }
   ],
   "source": [
    "# Media centrada (semanal/mensual/trimestral)\n",
    "data.TMED.rolling(7, center=True).mean().plot()"
   ]
  },
  {
   "cell_type": "markdown",
   "metadata": {},
   "source": [
    "### Creación de nuevas columnas "
   ]
  },
  {
   "cell_type": "code",
   "execution_count": 11,
   "metadata": {},
   "outputs": [],
   "source": [
    "# Agruparemos por año y día: creemos dos columnas nuevas\n",
    "data['year'] = data.index.year\n",
    "data['month'] = data.index.month"
   ]
  },
  {
   "cell_type": "markdown",
   "metadata": {},
   "source": [
    "## Creando agrupaciones "
   ]
  },
  {
   "cell_type": "markdown",
   "metadata": {},
   "source": [
    "En muchas ocasiones queremos realizar agrupaciones de datos en base a determinados valores como son fechas, o etiquetas (por ejemplo, datos que pertenecen a un mismo ensayo o lugar).\n",
    "\n",
    "En este caso, imaginemos que nos interesa obtener una representación del \"mes típico\" o \"día típico\""
   ]
  },
  {
   "cell_type": "markdown",
   "metadata": {},
   "source": [
    "Podemos agrupar nuestros datos utilizando `groupby`:"
   ]
  },
  {
   "cell_type": "code",
   "execution_count": 12,
   "metadata": {},
   "outputs": [],
   "source": [
    "# Creamos la agrupación\n",
    "monthly = data.groupby(by=['year', 'month'])"
   ]
  },
  {
   "cell_type": "code",
   "execution_count": 13,
   "metadata": {},
   "outputs": [
    {
     "data": {
      "text/plain": [
       "dict_keys([(2004, 1), (2004, 2), (2004, 3), (2004, 4), (2004, 5), (2004, 6), (2004, 7), (2004, 8), (2004, 9), (2004, 10), (2004, 11), (2004, 12), (2005, 1), (2005, 2), (2005, 3), (2005, 4), (2005, 5), (2005, 6), (2005, 7), (2005, 8), (2005, 9), (2005, 10), (2005, 11), (2005, 12), (2006, 1), (2006, 2), (2006, 3), (2006, 4), (2006, 5), (2006, 6), (2006, 7), (2006, 8), (2006, 9), (2006, 10), (2006, 11), (2006, 12), (2007, 1), (2007, 2), (2007, 3), (2007, 4), (2007, 5), (2007, 6), (2007, 7), (2007, 8), (2007, 9), (2007, 10), (2007, 11), (2007, 12), (2008, 1), (2008, 2), (2008, 3), (2008, 4), (2008, 5), (2008, 6), (2008, 7), (2008, 8), (2008, 9), (2008, 10), (2008, 11), (2008, 12), (2009, 1), (2009, 2), (2009, 3), (2009, 4), (2009, 5), (2009, 6), (2009, 7), (2009, 8), (2009, 9), (2009, 10), (2009, 11), (2009, 12), (2010, 1), (2010, 2), (2010, 3), (2010, 4), (2010, 5), (2010, 6), (2010, 7), (2010, 8), (2010, 9), (2010, 10), (2010, 11), (2010, 12), (2011, 1), (2011, 2), (2011, 3), (2011, 4), (2011, 5), (2011, 6), (2011, 7), (2011, 8), (2011, 9), (2011, 10), (2011, 11), (2011, 12), (2012, 1), (2012, 2), (2012, 3), (2012, 4), (2012, 5), (2012, 6), (2012, 7), (2012, 8), (2012, 9), (2012, 10), (2012, 11), (2012, 12), (2013, 1), (2013, 2), (2013, 3), (2013, 4), (2013, 5), (2013, 6), (2013, 7), (2013, 8), (2013, 9), (2013, 10), (2013, 11), (2013, 12), (2014, 1), (2014, 2), (2014, 3), (2014, 4), (2014, 5), (2014, 6), (2014, 7), (2014, 8), (2014, 9), (2014, 10), (2014, 11), (2014, 12), (2015, 1), (2015, 2), (2015, 3), (2015, 4), (2015, 5), (2015, 6), (2015, 7), (2015, 8), (2015, 9), (2015, 10), (2015, 11), (2015, 12), (2016, 1), (2016, 2), (2016, 3), (2016, 4), (2016, 5), (2016, 6), (2016, 7), (2016, 8), (2016, 9), (2016, 10), (2016, 11), (2016, 12)])"
      ]
     },
     "execution_count": 13,
     "metadata": {},
     "output_type": "execute_result"
    }
   ],
   "source": [
    "# Podemos ver los grupos que se han creado\n",
    "monthly.groups.keys()"
   ]
  },
  {
   "cell_type": "markdown",
   "metadata": {},
   "source": [
    "Con estos grupos podemos hacer hacer varias cosas:\n",
    "\n",
    "* Acceder a sus datos individualmente (por ejemplo, comprobar qué pasó cada día de marzo de 2016) \n",
    "* Realizar una reducción de datos, para comparar diversos grupos (por, ejemplo caracterizar el tiempo de cada mes a lo largo de los años)"
   ]
  },
  {
   "cell_type": "code",
   "execution_count": 14,
   "metadata": {},
   "outputs": [
    {
     "data": {
      "text/html": [
       "<div>\n",
       "<style scoped>\n",
       "    .dataframe tbody tr th:only-of-type {\n",
       "        vertical-align: middle;\n",
       "    }\n",
       "\n",
       "    .dataframe tbody tr th {\n",
       "        vertical-align: top;\n",
       "    }\n",
       "\n",
       "    .dataframe thead th {\n",
       "        text-align: right;\n",
       "    }\n",
       "</style>\n",
       "<table border=\"1\" class=\"dataframe\">\n",
       "  <thead>\n",
       "    <tr style=\"text-align: right;\">\n",
       "      <th></th>\n",
       "      <th>TMAX</th>\n",
       "      <th>TMIN</th>\n",
       "      <th>TMED</th>\n",
       "      <th>PRECIP</th>\n",
       "      <th>year</th>\n",
       "      <th>month</th>\n",
       "    </tr>\n",
       "    <tr>\n",
       "      <th>DATE</th>\n",
       "      <th></th>\n",
       "      <th></th>\n",
       "      <th></th>\n",
       "      <th></th>\n",
       "      <th></th>\n",
       "      <th></th>\n",
       "    </tr>\n",
       "  </thead>\n",
       "  <tbody>\n",
       "    <tr>\n",
       "      <th>2016-03-01</th>\n",
       "      <td>20.5</td>\n",
       "      <td>0.0</td>\n",
       "      <td>9.9</td>\n",
       "      <td>0.0</td>\n",
       "      <td>2016</td>\n",
       "      <td>3</td>\n",
       "    </tr>\n",
       "    <tr>\n",
       "      <th>2016-03-02</th>\n",
       "      <td>23.5</td>\n",
       "      <td>2.9</td>\n",
       "      <td>13.6</td>\n",
       "      <td>0.0</td>\n",
       "      <td>2016</td>\n",
       "      <td>3</td>\n",
       "    </tr>\n",
       "    <tr>\n",
       "      <th>2016-03-03</th>\n",
       "      <td>20.9</td>\n",
       "      <td>2.9</td>\n",
       "      <td>12.5</td>\n",
       "      <td>0.0</td>\n",
       "      <td>2016</td>\n",
       "      <td>3</td>\n",
       "    </tr>\n",
       "    <tr>\n",
       "      <th>2016-03-04</th>\n",
       "      <td>20.3</td>\n",
       "      <td>2.0</td>\n",
       "      <td>12.6</td>\n",
       "      <td>0.0</td>\n",
       "      <td>2016</td>\n",
       "      <td>3</td>\n",
       "    </tr>\n",
       "    <tr>\n",
       "      <th>2016-03-05</th>\n",
       "      <td>17.3</td>\n",
       "      <td>7.1</td>\n",
       "      <td>12.5</td>\n",
       "      <td>0.0</td>\n",
       "      <td>2016</td>\n",
       "      <td>3</td>\n",
       "    </tr>\n",
       "  </tbody>\n",
       "</table>\n",
       "</div>"
      ],
      "text/plain": [
       "            TMAX  TMIN  TMED  PRECIP  year  month\n",
       "DATE                                             \n",
       "2016-03-01  20.5   0.0   9.9     0.0  2016      3\n",
       "2016-03-02  23.5   2.9  13.6     0.0  2016      3\n",
       "2016-03-03  20.9   2.9  12.5     0.0  2016      3\n",
       "2016-03-04  20.3   2.0  12.6     0.0  2016      3\n",
       "2016-03-05  17.3   7.1  12.5     0.0  2016      3"
      ]
     },
     "execution_count": 14,
     "metadata": {},
     "output_type": "execute_result"
    }
   ],
   "source": [
    "# Accedemos a un grupo\n",
    "monthly.get_group((2016,3)).head()"
   ]
  },
  {
   "cell_type": "code",
   "execution_count": 15,
   "metadata": {},
   "outputs": [
    {
     "data": {
      "text/html": [
       "<div>\n",
       "<style scoped>\n",
       "    .dataframe tbody tr th:only-of-type {\n",
       "        vertical-align: middle;\n",
       "    }\n",
       "\n",
       "    .dataframe tbody tr th {\n",
       "        vertical-align: top;\n",
       "    }\n",
       "\n",
       "    .dataframe thead th {\n",
       "        text-align: right;\n",
       "    }\n",
       "</style>\n",
       "<table border=\"1\" class=\"dataframe\">\n",
       "  <thead>\n",
       "    <tr style=\"text-align: right;\">\n",
       "      <th></th>\n",
       "      <th></th>\n",
       "      <th>TMAX</th>\n",
       "      <th>TMIN</th>\n",
       "      <th>TMED</th>\n",
       "      <th>PRECIP</th>\n",
       "    </tr>\n",
       "    <tr>\n",
       "      <th>year</th>\n",
       "      <th>month</th>\n",
       "      <th></th>\n",
       "      <th></th>\n",
       "      <th></th>\n",
       "      <th></th>\n",
       "    </tr>\n",
       "  </thead>\n",
       "  <tbody>\n",
       "    <tr>\n",
       "      <th rowspan=\"12\" valign=\"top\">2004</th>\n",
       "      <th>1</th>\n",
       "      <td>17.603333</td>\n",
       "      <td>3.533333</td>\n",
       "      <td>10.003333</td>\n",
       "      <td>0.026667</td>\n",
       "    </tr>\n",
       "    <tr>\n",
       "      <th>2</th>\n",
       "      <td>16.017241</td>\n",
       "      <td>4.672414</td>\n",
       "      <td>9.803448</td>\n",
       "      <td>0.531034</td>\n",
       "    </tr>\n",
       "    <tr>\n",
       "      <th>3</th>\n",
       "      <td>17.074194</td>\n",
       "      <td>6.187097</td>\n",
       "      <td>11.370968</td>\n",
       "      <td>2.619355</td>\n",
       "    </tr>\n",
       "    <tr>\n",
       "      <th>4</th>\n",
       "      <td>19.016667</td>\n",
       "      <td>7.043333</td>\n",
       "      <td>13.190000</td>\n",
       "      <td>3.233333</td>\n",
       "    </tr>\n",
       "    <tr>\n",
       "      <th>5</th>\n",
       "      <td>21.283871</td>\n",
       "      <td>10.519355</td>\n",
       "      <td>15.883871</td>\n",
       "      <td>1.019355</td>\n",
       "    </tr>\n",
       "    <tr>\n",
       "      <th>6</th>\n",
       "      <td>30.756667</td>\n",
       "      <td>15.916667</td>\n",
       "      <td>23.323333</td>\n",
       "      <td>0.206667</td>\n",
       "    </tr>\n",
       "    <tr>\n",
       "      <th>7</th>\n",
       "      <td>31.664516</td>\n",
       "      <td>17.912903</td>\n",
       "      <td>24.758065</td>\n",
       "      <td>0.006452</td>\n",
       "    </tr>\n",
       "    <tr>\n",
       "      <th>8</th>\n",
       "      <td>33.483871</td>\n",
       "      <td>19.003226</td>\n",
       "      <td>26.241935</td>\n",
       "      <td>0.000000</td>\n",
       "    </tr>\n",
       "    <tr>\n",
       "      <th>9</th>\n",
       "      <td>30.066667</td>\n",
       "      <td>16.323333</td>\n",
       "      <td>22.656667</td>\n",
       "      <td>0.020000</td>\n",
       "    </tr>\n",
       "    <tr>\n",
       "      <th>10</th>\n",
       "      <td>26.022581</td>\n",
       "      <td>11.600000</td>\n",
       "      <td>18.451613</td>\n",
       "      <td>0.122581</td>\n",
       "    </tr>\n",
       "    <tr>\n",
       "      <th>11</th>\n",
       "      <td>18.056667</td>\n",
       "      <td>4.766667</td>\n",
       "      <td>10.920000</td>\n",
       "      <td>0.366667</td>\n",
       "    </tr>\n",
       "    <tr>\n",
       "      <th>12</th>\n",
       "      <td>14.500000</td>\n",
       "      <td>3.790323</td>\n",
       "      <td>8.800000</td>\n",
       "      <td>1.606452</td>\n",
       "    </tr>\n",
       "    <tr>\n",
       "      <th rowspan=\"12\" valign=\"top\">2005</th>\n",
       "      <th>1</th>\n",
       "      <td>14.587097</td>\n",
       "      <td>-0.067742</td>\n",
       "      <td>6.425806</td>\n",
       "      <td>0.090323</td>\n",
       "    </tr>\n",
       "    <tr>\n",
       "      <th>2</th>\n",
       "      <td>12.728571</td>\n",
       "      <td>0.775000</td>\n",
       "      <td>6.746429</td>\n",
       "      <td>1.821429</td>\n",
       "    </tr>\n",
       "    <tr>\n",
       "      <th>3</th>\n",
       "      <td>17.635484</td>\n",
       "      <td>5.574194</td>\n",
       "      <td>11.332258</td>\n",
       "      <td>0.858065</td>\n",
       "    </tr>\n",
       "    <tr>\n",
       "      <th>4</th>\n",
       "      <td>21.910000</td>\n",
       "      <td>8.163333</td>\n",
       "      <td>15.043333</td>\n",
       "      <td>0.073333</td>\n",
       "    </tr>\n",
       "    <tr>\n",
       "      <th>5</th>\n",
       "      <td>26.770968</td>\n",
       "      <td>12.035484</td>\n",
       "      <td>19.732258</td>\n",
       "      <td>0.109677</td>\n",
       "    </tr>\n",
       "    <tr>\n",
       "      <th>6</th>\n",
       "      <td>30.710000</td>\n",
       "      <td>15.550000</td>\n",
       "      <td>23.743333</td>\n",
       "      <td>0.033333</td>\n",
       "    </tr>\n",
       "    <tr>\n",
       "      <th>7</th>\n",
       "      <td>33.445161</td>\n",
       "      <td>17.996774</td>\n",
       "      <td>26.206452</td>\n",
       "      <td>0.000000</td>\n",
       "    </tr>\n",
       "    <tr>\n",
       "      <th>8</th>\n",
       "      <td>32.193333</td>\n",
       "      <td>17.976667</td>\n",
       "      <td>24.706667</td>\n",
       "      <td>0.040000</td>\n",
       "    </tr>\n",
       "    <tr>\n",
       "      <th>9</th>\n",
       "      <td>27.803333</td>\n",
       "      <td>14.303333</td>\n",
       "      <td>20.756667</td>\n",
       "      <td>0.553333</td>\n",
       "    </tr>\n",
       "    <tr>\n",
       "      <th>10</th>\n",
       "      <td>23.900000</td>\n",
       "      <td>11.480645</td>\n",
       "      <td>17.235484</td>\n",
       "      <td>0.187097</td>\n",
       "    </tr>\n",
       "    <tr>\n",
       "      <th>11</th>\n",
       "      <td>17.053333</td>\n",
       "      <td>5.550000</td>\n",
       "      <td>10.913333</td>\n",
       "      <td>0.793333</td>\n",
       "    </tr>\n",
       "    <tr>\n",
       "      <th>12</th>\n",
       "      <td>14.856667</td>\n",
       "      <td>2.730000</td>\n",
       "      <td>8.610000</td>\n",
       "      <td>0.306667</td>\n",
       "    </tr>\n",
       "  </tbody>\n",
       "</table>\n",
       "</div>"
      ],
      "text/plain": [
       "                 TMAX       TMIN       TMED    PRECIP\n",
       "year month                                           \n",
       "2004 1      17.603333   3.533333  10.003333  0.026667\n",
       "     2      16.017241   4.672414   9.803448  0.531034\n",
       "     3      17.074194   6.187097  11.370968  2.619355\n",
       "     4      19.016667   7.043333  13.190000  3.233333\n",
       "     5      21.283871  10.519355  15.883871  1.019355\n",
       "     6      30.756667  15.916667  23.323333  0.206667\n",
       "     7      31.664516  17.912903  24.758065  0.006452\n",
       "     8      33.483871  19.003226  26.241935  0.000000\n",
       "     9      30.066667  16.323333  22.656667  0.020000\n",
       "     10     26.022581  11.600000  18.451613  0.122581\n",
       "     11     18.056667   4.766667  10.920000  0.366667\n",
       "     12     14.500000   3.790323   8.800000  1.606452\n",
       "2005 1      14.587097  -0.067742   6.425806  0.090323\n",
       "     2      12.728571   0.775000   6.746429  1.821429\n",
       "     3      17.635484   5.574194  11.332258  0.858065\n",
       "     4      21.910000   8.163333  15.043333  0.073333\n",
       "     5      26.770968  12.035484  19.732258  0.109677\n",
       "     6      30.710000  15.550000  23.743333  0.033333\n",
       "     7      33.445161  17.996774  26.206452  0.000000\n",
       "     8      32.193333  17.976667  24.706667  0.040000\n",
       "     9      27.803333  14.303333  20.756667  0.553333\n",
       "     10     23.900000  11.480645  17.235484  0.187097\n",
       "     11     17.053333   5.550000  10.913333  0.793333\n",
       "     12     14.856667   2.730000   8.610000  0.306667"
      ]
     },
     "execution_count": 15,
     "metadata": {},
     "output_type": "execute_result"
    }
   ],
   "source": [
    "# Hhacemos una agregación de los datos:\n",
    "monthly_mean = monthly.mean()\n",
    "monthly_mean.head(24)"
   ]
  },
  {
   "cell_type": "markdown",
   "metadata": {},
   "source": [
    "### Pivotando tablas"
   ]
  },
  {
   "cell_type": "markdown",
   "metadata": {},
   "source": [
    "En ocasiones podemos querer ver nuestros datos de forma diferente o necesitamos organizarlos así para utilizar determinadas funciones de `pandas`. Una necesidad típica es la de pivotar una tabla.\n",
    "\n",
    "    Imagina que queremos acceder a los mismos datos que en el caso anterior, pero que ahora queremos ver los años en las filas y para cada variable (TMAX, TMED...) los calores de cada mes en una columna. ¿Cómo lo harías?"
   ]
  },
  {
   "cell_type": "code",
   "execution_count": 16,
   "metadata": {},
   "outputs": [
    {
     "data": {
      "text/html": [
       "<div>\n",
       "<style scoped>\n",
       "    .dataframe tbody tr th:only-of-type {\n",
       "        vertical-align: middle;\n",
       "    }\n",
       "\n",
       "    .dataframe tbody tr th {\n",
       "        vertical-align: top;\n",
       "    }\n",
       "\n",
       "    .dataframe thead tr th {\n",
       "        text-align: left;\n",
       "    }\n",
       "\n",
       "    .dataframe thead tr:last-of-type th {\n",
       "        text-align: right;\n",
       "    }\n",
       "</style>\n",
       "<table border=\"1\" class=\"dataframe\">\n",
       "  <thead>\n",
       "    <tr>\n",
       "      <th></th>\n",
       "      <th colspan=\"10\" halign=\"left\">TMAX</th>\n",
       "      <th>...</th>\n",
       "      <th colspan=\"10\" halign=\"left\">PRECIP</th>\n",
       "    </tr>\n",
       "    <tr>\n",
       "      <th>month</th>\n",
       "      <th>1</th>\n",
       "      <th>2</th>\n",
       "      <th>3</th>\n",
       "      <th>4</th>\n",
       "      <th>5</th>\n",
       "      <th>6</th>\n",
       "      <th>7</th>\n",
       "      <th>8</th>\n",
       "      <th>9</th>\n",
       "      <th>10</th>\n",
       "      <th>...</th>\n",
       "      <th>3</th>\n",
       "      <th>4</th>\n",
       "      <th>5</th>\n",
       "      <th>6</th>\n",
       "      <th>7</th>\n",
       "      <th>8</th>\n",
       "      <th>9</th>\n",
       "      <th>10</th>\n",
       "      <th>11</th>\n",
       "      <th>12</th>\n",
       "    </tr>\n",
       "    <tr>\n",
       "      <th>year</th>\n",
       "      <th></th>\n",
       "      <th></th>\n",
       "      <th></th>\n",
       "      <th></th>\n",
       "      <th></th>\n",
       "      <th></th>\n",
       "      <th></th>\n",
       "      <th></th>\n",
       "      <th></th>\n",
       "      <th></th>\n",
       "      <th></th>\n",
       "      <th></th>\n",
       "      <th></th>\n",
       "      <th></th>\n",
       "      <th></th>\n",
       "      <th></th>\n",
       "      <th></th>\n",
       "      <th></th>\n",
       "      <th></th>\n",
       "      <th></th>\n",
       "      <th></th>\n",
       "    </tr>\n",
       "  </thead>\n",
       "  <tbody>\n",
       "    <tr>\n",
       "      <th>2004</th>\n",
       "      <td>17.603333</td>\n",
       "      <td>16.017241</td>\n",
       "      <td>17.074194</td>\n",
       "      <td>19.016667</td>\n",
       "      <td>21.283871</td>\n",
       "      <td>30.756667</td>\n",
       "      <td>31.664516</td>\n",
       "      <td>33.483871</td>\n",
       "      <td>30.066667</td>\n",
       "      <td>26.022581</td>\n",
       "      <td>...</td>\n",
       "      <td>2.619355</td>\n",
       "      <td>3.233333</td>\n",
       "      <td>1.019355</td>\n",
       "      <td>0.206667</td>\n",
       "      <td>0.006452</td>\n",
       "      <td>0.000000</td>\n",
       "      <td>0.020000</td>\n",
       "      <td>0.122581</td>\n",
       "      <td>0.366667</td>\n",
       "      <td>1.606452</td>\n",
       "    </tr>\n",
       "    <tr>\n",
       "      <th>2005</th>\n",
       "      <td>14.587097</td>\n",
       "      <td>12.728571</td>\n",
       "      <td>17.635484</td>\n",
       "      <td>21.910000</td>\n",
       "      <td>26.770968</td>\n",
       "      <td>30.710000</td>\n",
       "      <td>33.445161</td>\n",
       "      <td>32.193333</td>\n",
       "      <td>27.803333</td>\n",
       "      <td>23.900000</td>\n",
       "      <td>...</td>\n",
       "      <td>0.858065</td>\n",
       "      <td>0.073333</td>\n",
       "      <td>0.109677</td>\n",
       "      <td>0.033333</td>\n",
       "      <td>0.000000</td>\n",
       "      <td>0.040000</td>\n",
       "      <td>0.553333</td>\n",
       "      <td>0.187097</td>\n",
       "      <td>0.793333</td>\n",
       "      <td>0.306667</td>\n",
       "    </tr>\n",
       "    <tr>\n",
       "      <th>2006</th>\n",
       "      <td>12.110000</td>\n",
       "      <td>14.322222</td>\n",
       "      <td>20.722581</td>\n",
       "      <td>22.333333</td>\n",
       "      <td>25.280000</td>\n",
       "      <td>28.386207</td>\n",
       "      <td>33.900000</td>\n",
       "      <td>31.990323</td>\n",
       "      <td>28.633333</td>\n",
       "      <td>25.483871</td>\n",
       "      <td>...</td>\n",
       "      <td>0.070968</td>\n",
       "      <td>1.960000</td>\n",
       "      <td>2.026667</td>\n",
       "      <td>0.351724</td>\n",
       "      <td>0.000000</td>\n",
       "      <td>0.000000</td>\n",
       "      <td>1.720000</td>\n",
       "      <td>0.232258</td>\n",
       "      <td>1.333333</td>\n",
       "      <td>0.322581</td>\n",
       "    </tr>\n",
       "    <tr>\n",
       "      <th>2007</th>\n",
       "      <td>16.487097</td>\n",
       "      <td>18.100000</td>\n",
       "      <td>18.390323</td>\n",
       "      <td>17.993103</td>\n",
       "      <td>25.767742</td>\n",
       "      <td>29.579310</td>\n",
       "      <td>32.551613</td>\n",
       "      <td>31.764516</td>\n",
       "      <td>26.806667</td>\n",
       "      <td>21.919355</td>\n",
       "      <td>...</td>\n",
       "      <td>0.625806</td>\n",
       "      <td>1.248276</td>\n",
       "      <td>0.251613</td>\n",
       "      <td>0.000000</td>\n",
       "      <td>0.000000</td>\n",
       "      <td>0.070968</td>\n",
       "      <td>2.133333</td>\n",
       "      <td>2.051613</td>\n",
       "      <td>0.380000</td>\n",
       "      <td>1.280000</td>\n",
       "    </tr>\n",
       "    <tr>\n",
       "      <th>2008</th>\n",
       "      <td>16.293548</td>\n",
       "      <td>15.262069</td>\n",
       "      <td>20.148387</td>\n",
       "      <td>21.960000</td>\n",
       "      <td>23.200000</td>\n",
       "      <td>28.720000</td>\n",
       "      <td>32.596774</td>\n",
       "      <td>32.380645</td>\n",
       "      <td>27.343333</td>\n",
       "      <td>21.548387</td>\n",
       "      <td>...</td>\n",
       "      <td>0.464516</td>\n",
       "      <td>0.120000</td>\n",
       "      <td>1.503226</td>\n",
       "      <td>0.093333</td>\n",
       "      <td>0.283871</td>\n",
       "      <td>0.000000</td>\n",
       "      <td>2.146667</td>\n",
       "      <td>3.296774</td>\n",
       "      <td>0.646667</td>\n",
       "      <td>0.000000</td>\n",
       "    </tr>\n",
       "    <tr>\n",
       "      <th>2009</th>\n",
       "      <td>13.609677</td>\n",
       "      <td>14.625000</td>\n",
       "      <td>18.019355</td>\n",
       "      <td>20.546667</td>\n",
       "      <td>26.083871</td>\n",
       "      <td>32.066667</td>\n",
       "      <td>34.964516</td>\n",
       "      <td>32.367742</td>\n",
       "      <td>26.363333</td>\n",
       "      <td>25.945161</td>\n",
       "      <td>...</td>\n",
       "      <td>1.425806</td>\n",
       "      <td>0.720000</td>\n",
       "      <td>0.103226</td>\n",
       "      <td>0.020000</td>\n",
       "      <td>0.000000</td>\n",
       "      <td>0.077419</td>\n",
       "      <td>1.306667</td>\n",
       "      <td>0.090323</td>\n",
       "      <td>0.233333</td>\n",
       "      <td>3.503226</td>\n",
       "    </tr>\n",
       "    <tr>\n",
       "      <th>2010</th>\n",
       "      <td>13.838710</td>\n",
       "      <td>23.364286</td>\n",
       "      <td>16.100000</td>\n",
       "      <td>20.033333</td>\n",
       "      <td>24.403226</td>\n",
       "      <td>28.783333</td>\n",
       "      <td>33.070968</td>\n",
       "      <td>33.067742</td>\n",
       "      <td>28.726667</td>\n",
       "      <td>23.980645</td>\n",
       "      <td>...</td>\n",
       "      <td>2.548387</td>\n",
       "      <td>0.486667</td>\n",
       "      <td>0.367742</td>\n",
       "      <td>0.853333</td>\n",
       "      <td>0.000000</td>\n",
       "      <td>0.032258</td>\n",
       "      <td>0.146667</td>\n",
       "      <td>0.677419</td>\n",
       "      <td>1.546667</td>\n",
       "      <td>1.877419</td>\n",
       "    </tr>\n",
       "    <tr>\n",
       "      <th>2011</th>\n",
       "      <td>14.258065</td>\n",
       "      <td>17.007143</td>\n",
       "      <td>16.212903</td>\n",
       "      <td>22.090000</td>\n",
       "      <td>24.145161</td>\n",
       "      <td>29.216667</td>\n",
       "      <td>32.977419</td>\n",
       "      <td>33.687097</td>\n",
       "      <td>28.870000</td>\n",
       "      <td>24.216129</td>\n",
       "      <td>...</td>\n",
       "      <td>1.012903</td>\n",
       "      <td>0.993333</td>\n",
       "      <td>1.606452</td>\n",
       "      <td>0.080000</td>\n",
       "      <td>0.000000</td>\n",
       "      <td>0.077419</td>\n",
       "      <td>0.573333</td>\n",
       "      <td>0.141935</td>\n",
       "      <td>1.293333</td>\n",
       "      <td>0.458065</td>\n",
       "    </tr>\n",
       "    <tr>\n",
       "      <th>2012</th>\n",
       "      <td>15.796774</td>\n",
       "      <td>14.134483</td>\n",
       "      <td>18.522581</td>\n",
       "      <td>21.576667</td>\n",
       "      <td>27.138710</td>\n",
       "      <td>32.576667</td>\n",
       "      <td>32.880645</td>\n",
       "      <td>35.754545</td>\n",
       "      <td>28.106667</td>\n",
       "      <td>23.506452</td>\n",
       "      <td>...</td>\n",
       "      <td>0.025806</td>\n",
       "      <td>0.013333</td>\n",
       "      <td>0.000000</td>\n",
       "      <td>0.006667</td>\n",
       "      <td>0.000000</td>\n",
       "      <td>0.000000</td>\n",
       "      <td>2.233333</td>\n",
       "      <td>0.787097</td>\n",
       "      <td>2.173333</td>\n",
       "      <td>0.058065</td>\n",
       "    </tr>\n",
       "    <tr>\n",
       "      <th>2013</th>\n",
       "      <td>16.919355</td>\n",
       "      <td>15.725000</td>\n",
       "      <td>18.567742</td>\n",
       "      <td>21.280000</td>\n",
       "      <td>23.425806</td>\n",
       "      <td>27.976667</td>\n",
       "      <td>31.841935</td>\n",
       "      <td>31.716129</td>\n",
       "      <td>28.016667</td>\n",
       "      <td>26.603226</td>\n",
       "      <td>...</td>\n",
       "      <td>1.141935</td>\n",
       "      <td>0.373333</td>\n",
       "      <td>0.574194</td>\n",
       "      <td>0.000000</td>\n",
       "      <td>0.000000</td>\n",
       "      <td>0.800000</td>\n",
       "      <td>0.673333</td>\n",
       "      <td>0.083871</td>\n",
       "      <td>0.673333</td>\n",
       "      <td>0.683871</td>\n",
       "    </tr>\n",
       "    <tr>\n",
       "      <th>2014</th>\n",
       "      <td>16.506452</td>\n",
       "      <td>17.542857</td>\n",
       "      <td>18.809677</td>\n",
       "      <td>24.886667</td>\n",
       "      <td>25.112903</td>\n",
       "      <td>29.033333</td>\n",
       "      <td>32.154839</td>\n",
       "      <td>32.645161</td>\n",
       "      <td>29.603333</td>\n",
       "      <td>25.287097</td>\n",
       "      <td>...</td>\n",
       "      <td>0.122581</td>\n",
       "      <td>0.013333</td>\n",
       "      <td>0.051613</td>\n",
       "      <td>0.580000</td>\n",
       "      <td>0.000000</td>\n",
       "      <td>0.000000</td>\n",
       "      <td>1.240000</td>\n",
       "      <td>0.664516</td>\n",
       "      <td>0.633333</td>\n",
       "      <td>0.419355</td>\n",
       "    </tr>\n",
       "    <tr>\n",
       "      <th>2015</th>\n",
       "      <td>15.819355</td>\n",
       "      <td>14.014286</td>\n",
       "      <td>18.793548</td>\n",
       "      <td>20.103333</td>\n",
       "      <td>27.174194</td>\n",
       "      <td>29.250000</td>\n",
       "      <td>35.174194</td>\n",
       "      <td>32.203226</td>\n",
       "      <td>27.966667</td>\n",
       "      <td>23.664516</td>\n",
       "      <td>...</td>\n",
       "      <td>1.374194</td>\n",
       "      <td>1.080000</td>\n",
       "      <td>0.103226</td>\n",
       "      <td>0.113333</td>\n",
       "      <td>0.012903</td>\n",
       "      <td>0.006452</td>\n",
       "      <td>1.160000</td>\n",
       "      <td>1.322581</td>\n",
       "      <td>0.633333</td>\n",
       "      <td>0.058065</td>\n",
       "    </tr>\n",
       "    <tr>\n",
       "      <th>2016</th>\n",
       "      <td>17.541935</td>\n",
       "      <td>17.251724</td>\n",
       "      <td>18.906452</td>\n",
       "      <td>21.500000</td>\n",
       "      <td>24.632258</td>\n",
       "      <td>30.540000</td>\n",
       "      <td>32.180645</td>\n",
       "      <td>30.929032</td>\n",
       "      <td>29.016667</td>\n",
       "      <td>24.567742</td>\n",
       "      <td>...</td>\n",
       "      <td>0.167742</td>\n",
       "      <td>0.126667</td>\n",
       "      <td>0.425806</td>\n",
       "      <td>0.006667</td>\n",
       "      <td>0.000000</td>\n",
       "      <td>0.032258</td>\n",
       "      <td>0.313333</td>\n",
       "      <td>0.567742</td>\n",
       "      <td>0.613793</td>\n",
       "      <td>2.369231</td>\n",
       "    </tr>\n",
       "  </tbody>\n",
       "</table>\n",
       "<p>13 rows × 48 columns</p>\n",
       "</div>"
      ],
      "text/plain": [
       "            TMAX                                                         \\\n",
       "month         1          2          3          4          5          6    \n",
       "year                                                                      \n",
       "2004   17.603333  16.017241  17.074194  19.016667  21.283871  30.756667   \n",
       "2005   14.587097  12.728571  17.635484  21.910000  26.770968  30.710000   \n",
       "2006   12.110000  14.322222  20.722581  22.333333  25.280000  28.386207   \n",
       "2007   16.487097  18.100000  18.390323  17.993103  25.767742  29.579310   \n",
       "2008   16.293548  15.262069  20.148387  21.960000  23.200000  28.720000   \n",
       "2009   13.609677  14.625000  18.019355  20.546667  26.083871  32.066667   \n",
       "2010   13.838710  23.364286  16.100000  20.033333  24.403226  28.783333   \n",
       "2011   14.258065  17.007143  16.212903  22.090000  24.145161  29.216667   \n",
       "2012   15.796774  14.134483  18.522581  21.576667  27.138710  32.576667   \n",
       "2013   16.919355  15.725000  18.567742  21.280000  23.425806  27.976667   \n",
       "2014   16.506452  17.542857  18.809677  24.886667  25.112903  29.033333   \n",
       "2015   15.819355  14.014286  18.793548  20.103333  27.174194  29.250000   \n",
       "2016   17.541935  17.251724  18.906452  21.500000  24.632258  30.540000   \n",
       "\n",
       "                                                     ...       PRECIP  \\\n",
       "month         7          8          9          10    ...           3    \n",
       "year                                                 ...                \n",
       "2004   31.664516  33.483871  30.066667  26.022581    ...     2.619355   \n",
       "2005   33.445161  32.193333  27.803333  23.900000    ...     0.858065   \n",
       "2006   33.900000  31.990323  28.633333  25.483871    ...     0.070968   \n",
       "2007   32.551613  31.764516  26.806667  21.919355    ...     0.625806   \n",
       "2008   32.596774  32.380645  27.343333  21.548387    ...     0.464516   \n",
       "2009   34.964516  32.367742  26.363333  25.945161    ...     1.425806   \n",
       "2010   33.070968  33.067742  28.726667  23.980645    ...     2.548387   \n",
       "2011   32.977419  33.687097  28.870000  24.216129    ...     1.012903   \n",
       "2012   32.880645  35.754545  28.106667  23.506452    ...     0.025806   \n",
       "2013   31.841935  31.716129  28.016667  26.603226    ...     1.141935   \n",
       "2014   32.154839  32.645161  29.603333  25.287097    ...     0.122581   \n",
       "2015   35.174194  32.203226  27.966667  23.664516    ...     1.374194   \n",
       "2016   32.180645  30.929032  29.016667  24.567742    ...     0.167742   \n",
       "\n",
       "                                                                             \\\n",
       "month        4         5         6         7         8         9         10   \n",
       "year                                                                          \n",
       "2004   3.233333  1.019355  0.206667  0.006452  0.000000  0.020000  0.122581   \n",
       "2005   0.073333  0.109677  0.033333  0.000000  0.040000  0.553333  0.187097   \n",
       "2006   1.960000  2.026667  0.351724  0.000000  0.000000  1.720000  0.232258   \n",
       "2007   1.248276  0.251613  0.000000  0.000000  0.070968  2.133333  2.051613   \n",
       "2008   0.120000  1.503226  0.093333  0.283871  0.000000  2.146667  3.296774   \n",
       "2009   0.720000  0.103226  0.020000  0.000000  0.077419  1.306667  0.090323   \n",
       "2010   0.486667  0.367742  0.853333  0.000000  0.032258  0.146667  0.677419   \n",
       "2011   0.993333  1.606452  0.080000  0.000000  0.077419  0.573333  0.141935   \n",
       "2012   0.013333  0.000000  0.006667  0.000000  0.000000  2.233333  0.787097   \n",
       "2013   0.373333  0.574194  0.000000  0.000000  0.800000  0.673333  0.083871   \n",
       "2014   0.013333  0.051613  0.580000  0.000000  0.000000  1.240000  0.664516   \n",
       "2015   1.080000  0.103226  0.113333  0.012903  0.006452  1.160000  1.322581   \n",
       "2016   0.126667  0.425806  0.006667  0.000000  0.032258  0.313333  0.567742   \n",
       "\n",
       "                           \n",
       "month        11        12  \n",
       "year                       \n",
       "2004   0.366667  1.606452  \n",
       "2005   0.793333  0.306667  \n",
       "2006   1.333333  0.322581  \n",
       "2007   0.380000  1.280000  \n",
       "2008   0.646667  0.000000  \n",
       "2009   0.233333  3.503226  \n",
       "2010   1.546667  1.877419  \n",
       "2011   1.293333  0.458065  \n",
       "2012   2.173333  0.058065  \n",
       "2013   0.673333  0.683871  \n",
       "2014   0.633333  0.419355  \n",
       "2015   0.633333  0.058065  \n",
       "2016   0.613793  2.369231  \n",
       "\n",
       "[13 rows x 48 columns]"
      ]
     },
     "execution_count": 16,
     "metadata": {},
     "output_type": "execute_result"
    }
   ],
   "source": [
    "# Dejar los años como índices y ver la media mensual en cada columna\n",
    "pivoted = monthly_mean.reset_index().pivot(index='year', columns='month')\n",
    "pivoted"
   ]
  },
  {
   "cell_type": "markdown",
   "metadata": {},
   "source": [
    "La línea anterior no es sencilla y no se escribe de una sola vez sin errores (sobre todo si estás empezando). Esto es una ejemplo de que `pandas` es una librería potente, pero que lleva tiempo aprender. Pasarás muchas horas peleando contra problemas de este tipo, pero afortunadamente mucha gente lo ha pasado mal antes y su experiencia ha quedado plasmada en cientos de **preguntas de `stack overflow`** y en la **documentación de `pandas`**"
   ]
  },
  {
   "cell_type": "code",
   "execution_count": 17,
   "metadata": {},
   "outputs": [
    {
     "data": {
      "text/plain": [
       "<matplotlib.axes._subplots.AxesSubplot at 0x7f63b24dad30>"
      ]
     },
     "execution_count": 17,
     "metadata": {},
     "output_type": "execute_result"
    },
    {
     "data": {
      "image/png": "[encoded data removed]",
      "text/plain": [
       "<matplotlib.figure.Figure at 0x7f63b2483cf8>"
      ]
     },
     "metadata": {},
     "output_type": "display_data"
    }
   ],
   "source": [
    "pivoted.TMED.plot()"
   ]
  },
  {
   "cell_type": "markdown",
   "metadata": {},
   "source": [
    "### Visualizaciones especiales"
   ]
  },
  {
   "cell_type": "markdown",
   "metadata": {},
   "source": [
    "#### scatter"
   ]
  },
  {
   "cell_type": "code",
   "execution_count": 18,
   "metadata": {},
   "outputs": [
    {
     "data": {
      "image/png": "[encoded data removed]",
      "text/plain": [
       "<matplotlib.figure.Figure at 0x7f63b23dd588>"
      ]
     },
     "metadata": {},
     "output_type": "display_data"
    }
   ],
   "source": [
    "# scatter_matrix\n",
    "from pandas.plotting import scatter_matrix\n",
    "axes = scatter_matrix(data.loc[:, \"TMAX\":\"TMED\"])"
   ]
  },
  {
   "cell_type": "markdown",
   "metadata": {},
   "source": [
    "#### lag_plot "
   ]
  },
  {
   "cell_type": "code",
   "execution_count": 19,
   "metadata": {},
   "outputs": [
    {
     "data": {
      "text/plain": [
       "<matplotlib.axes._subplots.AxesSubplot at 0x7f63b2246240>"
      ]
     },
     "execution_count": 19,
     "metadata": {},
     "output_type": "execute_result"
    },
    {
     "data": {
      "image/png": "[encoded data removed]",
      "text/plain": [
       "<matplotlib.figure.Figure at 0x7f63b21b52e8>"
      ]
     },
     "metadata": {},
     "output_type": "display_data"
    }
   ],
   "source": [
    "pd.plotting.lag_plot(data.TMED, lag=1, alpha=0.3)"
   ]
  },
  {
   "cell_type": "code",
   "execution_count": 20,
   "metadata": {},
   "outputs": [
    {
     "data": {
      "text/plain": [
       "<matplotlib.axes._subplots.AxesSubplot at 0x7f63b21b5630>"
      ]
     },
     "execution_count": 20,
     "metadata": {},
     "output_type": "execute_result"
    },
    {
     "data": {
      "image/png": "[encoded data removed]",
      "text/plain": [
       "<matplotlib.figure.Figure at 0x7f63b2150898>"
      ]
     },
     "metadata": {},
     "output_type": "display_data"
    }
   ],
   "source": [
    "pd.plotting.lag_plot(data.TMAX, lag=1, alpha=0.3)"
   ]
  },
  {
   "cell_type": "markdown",
   "metadata": {},
   "source": [
    "---\n",
    "\n",
    "Hemos aprendido:\n",
    "* A utilizar las funciones rolling\n",
    "* A agrupar datos de un DataFrame utilizando sus columnas:\n",
    "  - A agrupar con más de una variable\n",
    "  - A acceder a distintos grupos\n",
    "  - A obtener una reducción de datos para cada grupo\n",
    "* A salvar nuestros datos\n",
    "* A utilizar algunas representaciones especiales"
   ]
  },
  {
   "cell_type": "markdown",
   "metadata": {},
   "source": [
    "###### Juan Luis Cano, Alejandro Sáez, Mabel Delgado"
   ]
  },
  {
   "cell_type": "markdown",
   "metadata": {},
   "source": [
    "---\n",
    "_Las siguientes celdas contienen configuración del Notebook_\n",
    "\n",
    "_Para visualizar y utlizar los enlaces a Twitter el notebook debe ejecutarse como [seguro](http://ipython.org/ipython-doc/dev/notebook/security.html)_\n",
    "\n",
    "    File > Trusted Notebook"
   ]
  },
  {
   "cell_type": "code",
   "execution_count": 21,
   "metadata": {},
   "outputs": [
    {
     "data": {
      "text/html": [
       "/* This template is inspired in the one used by Lorena Barba\n",
       "in the numerical-mooc repository: https://github.com/numerical-mooc/numerical-mooc\n",
       "We thank her work and hope you also enjoy the look of the notobooks with this style */\n",
       "\n",
       "<link href='http://fonts.googleapis.com/css?family=Source+Sans+Pro|Josefin+Sans:400,700,400italic|Ubuntu+Condensed' rel='stylesheet' type='text/css'>\n",
       "\n",
       "<style>\n",
       "\n",
       "\n",
       "\n",
       "#notebook_panel { /* main background */\n",
       "    background: #f7f7f7;\n",
       "}\n",
       "\n",
       "div.cell { /* set cell width */\n",
       "    width: 900px;\n",
       "}\n",
       "\n",
       "div #notebook { /* centre the content */\n",
       "    background: #fff; /* white background for content */\n",
       "    width: 950px;\n",
       "    margin: auto;\n",
       "    padding-left: 0em;\n",
       "}\n",
       "\n",
       "#notebook li { /* More space between bullet points */\n",
       "    margin-top:0.7em;\n",
       "}\n",
       "\n",
       "/* draw border around running cells */\n",
       "div.cell.border-box-sizing.code_cell.running { \n",
       "    border: 1px solid #111;\n",
       "}\n",
       "\n",
       "/* Put a solid color box around each cell and its output, visually linking them*/\n",
       "div.cell.code_cell {\n",
       "    font-family: 'Source Sans Pro', sans-serif;\n",
       "    background-color: rgb(256,256,256);\n",
       "    font-size: 110%;\n",
       "    border-radius: 0px; \n",
       "    padding: 0.5em;\n",
       "    margin-left:1em;\n",
       "    margin-top: 1em;\n",
       "}\n",
       "\n",
       "div.text_cell_render{\n",
       "    font-family: 'Josefin Sans', serif;\n",
       "    line-height: 145%;\n",
       "    font-size: 125%;\n",
       "    font-weight: 500;\n",
       "    width:750px;\n",
       "    margin-left:auto;\n",
       "    margin-right:auto;\n",
       "}\n",
       "\n",
       "\n",
       "/* Formatting for header cells */\n",
       ".text_cell_render h1, .text_cell_render h2, .text_cell_render h3,\n",
       ".text_cell_render h4, .text_cell_render h5 {\n",
       "    font-family: 'Ubuntu Condensed', sans-serif;\n",
       "}\n",
       "/*\n",
       ".text_cell_render h1 {\n",
       "    font-family: Flux, 'Ubuntu Condensed', serif;\n",
       "    font-style:regular;\n",
       "    font-weight: 400;    \n",
       "    font-size: 30pt;\n",
       "    text-align: center;\n",
       "    line-height: 100%;\n",
       "    color: #335082;\n",
       "    margin-bottom: 0.5em;\n",
       "    margin-top: 0.5em;\n",
       "    display: block;\n",
       "}\n",
       "*/\n",
       ".text_cell_render h1 {\n",
       "    text-align: center;\n",
       "    font-weight: 600;\n",
       "    font-size: 35pt;\n",
       "    line-height: 100%;\n",
       "    color: #000000;\n",
       "    margin-bottom: 0.1em;\n",
       "    margin-top: 0.3em;\n",
       "    display: block;\n",
       "}\n",
       "\n",
       ".text_cell_render h2 {\n",
       "    margin-top:16px;\n",
       "    font-size: 27pt;\n",
       "    font-weight: 550;\n",
       "    margin-bottom: 0.1em;\n",
       "    margin-top: 0.3em;\n",
       "    font-style: regular;\n",
       "    color: #477C9A;\n",
       "}\t\n",
       "\n",
       ".text_cell_render h3 {\n",
       "    font-size: 20pt;\n",
       "    font-weight: 550\n",
       "    text-align: left;\n",
       "    margin-bottom: 0.1em;\n",
       "    margin-top: 0.3em;\n",
       "    font-style: regular;\n",
       "    color:  #477C9A;\n",
       "}\n",
       "\n",
       ".text_cell_render h4 {    /*Use this for captions*/\n",
       "    font-size: 18pt;\n",
       "    font-weight: 450\n",
       "    text-align: left;\n",
       "    margin-bottom: 0.1em;\n",
       "    margin-top: 0.3em;\n",
       "    font-style: regular;\n",
       "    color:  #477C9A;\n",
       "}\n",
       "\n",
       ".text_cell_render h5 {  /*Use this for small titles*/\n",
       "    font-size: 18pt;\n",
       "    font-weight: 550;\n",
       "    color: rgb(163,0,0);\n",
       "    font-style: italic;\n",
       "    margin-bottom: .1em;\n",
       "    margin-top: 0.8em;\n",
       "    display: block;\n",
       "    color:  #7E7D7D;\n",
       "}\n",
       "\n",
       ".text_cell_render h6 { /*use this for copyright note*/\n",
       "    font-family: 'Ubuntu Condensed', sans-serif;\n",
       "    font-weight: 300;\n",
       "    font-size: 14pt;\n",
       "    line-height: 100%;\n",
       "    color: #252525;\n",
       "    text-align: right;\n",
       "    margin-bottom: 1px;\n",
       "    margin-top: 1px;\n",
       "}\n",
       "\n",
       ".CodeMirror{\n",
       "        font-family: 'Duru Sans', sans-serif;\n",
       "        font-size: 100%;\n",
       "}\n",
       "\n",
       "</style>\n",
       "<script>\n",
       "    MathJax.Hub.Config({\n",
       "                        TeX: {\n",
       "                           extensions: [\"AMSmath.js\"],\n",
       "                           equationNumbers: { autoNumber: \"AMS\", useLabelIds: true}\n",
       "                           },\n",
       "                tex2jax: {\n",
       "                    inlineMath: [ ['$','$'], [\"\\\\(\",\"\\\\)\"] ],\n",
       "                    displayMath: [ ['$$','$$'], [\"\\\\[\",\"\\\\]\"] ]\n",
       "                },\n",
       "                displayAlign: 'center', // Change this to 'center' to center equations.\n",
       "                \"HTML-CSS\": {\n",
       "                    styles: {'.MathJax_Display': {\"margin\": 4}}\n",
       "                }\n",
       "        });\n",
       "</script>\n"
      ],
      "text/plain": [
       "<IPython.core.display.HTML object>"
      ]
     },
     "execution_count": 21,
     "metadata": {},
     "output_type": "execute_result"
    }
   ],
   "source": [
    "# Esta celda da el estilo al notebook\n",
    "from IPython.core.display import HTML\n",
    "css_file = '../style/style.css'\n",
    "HTML(open(css_file, \"r\").read())"
   ]
  }
 ],
 "metadata": {
  "anaconda-cloud": {},
  "kernelspec": {
   "display_name": "Python 3",
   "language": "python",
   "name": "python3"
  },
  "language_info": {
   "codemirror_mode": {
    "name": "ipython",
    "version": 3
   },
   "file_extension": ".py",
   "mimetype": "text/x-python",
   "name": "python",
   "nbconvert_exporter": "python",
   "pygments_lexer": "ipython3",
   "version": "3.6.4"
  }
 },
 "nbformat": 4,
 "nbformat_minor": 1
}
