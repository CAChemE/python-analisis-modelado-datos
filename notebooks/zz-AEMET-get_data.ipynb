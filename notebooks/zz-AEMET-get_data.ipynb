{
 "cells": [
  {
   "cell_type": "markdown",
   "metadata": {},
   "source": [
    "# API-REST: AEMET OPEN DATA "
   ]
  },
  {
   "cell_type": "markdown",
   "metadata": {},
   "source": [
    "En este notebook veremos otro ejemplo de uso de la api open data de AEMET. En este caso obtendremos parámetros medidos por una estación meteorológica."
   ]
  },
  {
   "cell_type": "code",
   "execution_count": 1,
   "metadata": {},
   "outputs": [],
   "source": [
    "import requests\n",
    "import datetime\n",
    "import time"
   ]
  },
  {
   "cell_type": "code",
   "execution_count": 2,
   "metadata": {},
   "outputs": [],
   "source": [
    "import urllib3\n",
    "urllib3.disable_warnings()"
   ]
  },
  {
   "cell_type": "code",
   "execution_count": 3,
   "metadata": {},
   "outputs": [],
   "source": [
    "# Cargamos la api key \n",
    "# Get API KEY in AEMET: https://opendata.aemet.es/centrodedescargas/inicio\n",
    "api_key = open(\"../../apikey-aemet.txt\").read().rstrip()\n",
    "querystring = {\"api_key\": api_key}"
   ]
  },
  {
   "cell_type": "code",
   "execution_count": 4,
   "metadata": {},
   "outputs": [],
   "source": [
    "def generate_chunks(start_date, final_date, step):\n",
    "    day_step = datetime.timedelta(days=1)\n",
    "    \n",
    "    next_date = start_date + step\n",
    "    \n",
    "    while next_date < final_date:\n",
    "        yield (start_date, next_date)\n",
    "        start_date = next_date + day_step\n",
    "        next_date = start_date + step\n",
    "    \n",
    "    yield (start_date, final_date)"
   ]
  },
  {
   "cell_type": "code",
   "execution_count": 5,
   "metadata": {},
   "outputs": [
    {
     "data": {
      "text/plain": [
       "[(datetime.datetime(2017, 1, 1, 0, 0), datetime.datetime(2017, 1, 31, 0, 0)),\n",
       " (datetime.datetime(2017, 2, 1, 0, 0), datetime.datetime(2017, 3, 3, 0, 0)),\n",
       " (datetime.datetime(2017, 3, 4, 0, 0), datetime.datetime(2017, 3, 15, 0, 0))]"
      ]
     },
     "execution_count": 5,
     "metadata": {},
     "output_type": "execute_result"
    }
   ],
   "source": [
    "start_date = datetime.datetime(2017, 1, 1, 0, 0, 0)\n",
    "final_date = datetime.datetime(2017, 3, 15, 0, 0, 0)\n",
    "step = datetime.timedelta(days=30)\n",
    "list(generate_chunks(start_date, final_date, step))"
   ]
  },
  {
   "cell_type": "code",
   "execution_count": 6,
   "metadata": {},
   "outputs": [],
   "source": [
    "def get_daily_data_url(start, end, station):\n",
    "    url = (\"https://opendata.aemet.es/opendata/api/valores/climatologicos/diarios/datos/\"\n",
    "           \"fechaini/{start}/fechafin/{end}/estacion/{station}\".format(\n",
    "               start=start_date.strftime('%Y-%m-%dT%H:%M:%SUTC'),\n",
    "               end=final_date.strftime('%Y-%m-%dT%H:%M:%SUTC'),\n",
    "               station=station)\n",
    "          )\n",
    "    return url"
   ]
  },
  {
   "cell_type": "code",
   "execution_count": 7,
   "metadata": {},
   "outputs": [],
   "source": [
    "def make_request(url):\n",
    "    request_again = True\n",
    "    sleep_secs = 1\n",
    "    while request_again:\n",
    "        r = requests.get(url, params=querystring, verify=False)\n",
    "        print(r)\n",
    "        if r.status_code == requests.codes.OK:\n",
    "            request_again = False\n",
    "            data_url = r.json()['datos']\n",
    "            r_data = requests.get(data_url, params=querystring, verify=False)\n",
    "            raw_data = r_data.json()\n",
    "        else:\n",
    "            print(f\"failed, sleep {sleep_secs}s and try again\")\n",
    "            time.sleep(sleep_secs)\n",
    "            sleep_secs += 1\n",
    "        \n",
    "    return raw_data"
   ]
  },
  {
   "cell_type": "code",
   "execution_count": 8,
   "metadata": {},
   "outputs": [
    {
     "data": {
      "text/plain": [
       "'https://opendata.aemet.es/opendata/api/valores/climatologicos/diarios/datos/fechaini/2017-01-01T00%3A00%3A00UTC/fechafin/2017-01-30T00%3A00%3A00UTC/estacion/8025'"
      ]
     },
     "execution_count": 8,
     "metadata": {},
     "output_type": "execute_result"
    }
   ],
   "source": [
    "(\"https://opendata.aemet.es/opendata/api/valores/climatologicos/diarios/datos/\"\n",
    "       \"fechaini/2017-01-01T00%3A00%3A00UTC/fechafin/2017-01-30T00%3A00%3A00UTC/estacion/8025\")"
   ]
  },
  {
   "cell_type": "code",
   "execution_count": 9,
   "metadata": {},
   "outputs": [
    {
     "name": "stdout",
     "output_type": "stream",
     "text": [
      "https://opendata.aemet.es/opendata/api/valores/climatologicos/diarios/datos/fechaini/2015-01-01T00:00:00UTC/fechafin/2015-01-31T00:00:00UTC/estacion/8025,8019,08370,7247X\n",
      "<Response [200]>\n",
      "https://opendata.aemet.es/opendata/api/valores/climatologicos/diarios/datos/fechaini/2015-02-01T00:00:00UTC/fechafin/2015-03-03T00:00:00UTC/estacion/8025,8019,08370,7247X\n",
      "<Response [200]>\n",
      "https://opendata.aemet.es/opendata/api/valores/climatologicos/diarios/datos/fechaini/2015-03-04T00:00:00UTC/fechafin/2015-04-03T00:00:00UTC/estacion/8025,8019,08370,7247X\n",
      "<Response [200]>\n",
      "https://opendata.aemet.es/opendata/api/valores/climatologicos/diarios/datos/fechaini/2015-04-04T00:00:00UTC/fechafin/2015-05-04T00:00:00UTC/estacion/8025,8019,08370,7247X\n",
      "<Response [200]>\n",
      "https://opendata.aemet.es/opendata/api/valores/climatologicos/diarios/datos/fechaini/2015-05-05T00:00:00UTC/fechafin/2015-06-04T00:00:00UTC/estacion/8025,8019,08370,7247X\n",
      "<Response [200]>\n",
      "https://opendata.aemet.es/opendata/api/valores/climatologicos/diarios/datos/fechaini/2015-06-05T00:00:00UTC/fechafin/2015-07-05T00:00:00UTC/estacion/8025,8019,08370,7247X\n",
      "<Response [200]>\n",
      "https://opendata.aemet.es/opendata/api/valores/climatologicos/diarios/datos/fechaini/2015-07-06T00:00:00UTC/fechafin/2015-08-05T00:00:00UTC/estacion/8025,8019,08370,7247X\n",
      "<Response [200]>\n",
      "https://opendata.aemet.es/opendata/api/valores/climatologicos/diarios/datos/fechaini/2015-08-06T00:00:00UTC/fechafin/2015-09-05T00:00:00UTC/estacion/8025,8019,08370,7247X\n",
      "<Response [200]>\n",
      "https://opendata.aemet.es/opendata/api/valores/climatologicos/diarios/datos/fechaini/2015-09-06T00:00:00UTC/fechafin/2015-10-06T00:00:00UTC/estacion/8025,8019,08370,7247X\n",
      "<Response [200]>\n",
      "https://opendata.aemet.es/opendata/api/valores/climatologicos/diarios/datos/fechaini/2015-10-07T00:00:00UTC/fechafin/2015-11-06T00:00:00UTC/estacion/8025,8019,08370,7247X\n",
      "<Response [200]>\n",
      "https://opendata.aemet.es/opendata/api/valores/climatologicos/diarios/datos/fechaini/2015-11-07T00:00:00UTC/fechafin/2015-12-07T00:00:00UTC/estacion/8025,8019,08370,7247X\n",
      "<Response [200]>\n",
      "https://opendata.aemet.es/opendata/api/valores/climatologicos/diarios/datos/fechaini/2015-12-08T00:00:00UTC/fechafin/2016-01-07T00:00:00UTC/estacion/8025,8019,08370,7247X\n",
      "<Response [200]>\n",
      "https://opendata.aemet.es/opendata/api/valores/climatologicos/diarios/datos/fechaini/2016-01-08T00:00:00UTC/fechafin/2016-02-07T00:00:00UTC/estacion/8025,8019,08370,7247X\n",
      "<Response [200]>\n",
      "https://opendata.aemet.es/opendata/api/valores/climatologicos/diarios/datos/fechaini/2016-02-08T00:00:00UTC/fechafin/2016-03-09T00:00:00UTC/estacion/8025,8019,08370,7247X\n",
      "<Response [200]>\n",
      "https://opendata.aemet.es/opendata/api/valores/climatologicos/diarios/datos/fechaini/2016-03-10T00:00:00UTC/fechafin/2016-04-09T00:00:00UTC/estacion/8025,8019,08370,7247X\n",
      "<Response [200]>\n",
      "https://opendata.aemet.es/opendata/api/valores/climatologicos/diarios/datos/fechaini/2016-04-10T00:00:00UTC/fechafin/2016-05-10T00:00:00UTC/estacion/8025,8019,08370,7247X\n",
      "<Response [200]>\n",
      "https://opendata.aemet.es/opendata/api/valores/climatologicos/diarios/datos/fechaini/2016-05-11T00:00:00UTC/fechafin/2016-06-10T00:00:00UTC/estacion/8025,8019,08370,7247X\n",
      "<Response [200]>\n",
      "https://opendata.aemet.es/opendata/api/valores/climatologicos/diarios/datos/fechaini/2016-06-11T00:00:00UTC/fechafin/2016-07-11T00:00:00UTC/estacion/8025,8019,08370,7247X\n",
      "<Response [200]>\n",
      "https://opendata.aemet.es/opendata/api/valores/climatologicos/diarios/datos/fechaini/2016-07-12T00:00:00UTC/fechafin/2016-08-11T00:00:00UTC/estacion/8025,8019,08370,7247X\n",
      "<Response [200]>\n",
      "https://opendata.aemet.es/opendata/api/valores/climatologicos/diarios/datos/fechaini/2016-08-12T00:00:00UTC/fechafin/2016-09-11T00:00:00UTC/estacion/8025,8019,08370,7247X\n",
      "<Response [200]>\n",
      "https://opendata.aemet.es/opendata/api/valores/climatologicos/diarios/datos/fechaini/2016-09-12T00:00:00UTC/fechafin/2016-10-12T00:00:00UTC/estacion/8025,8019,08370,7247X\n",
      "<Response [200]>\n",
      "https://opendata.aemet.es/opendata/api/valores/climatologicos/diarios/datos/fechaini/2016-10-13T00:00:00UTC/fechafin/2016-11-12T00:00:00UTC/estacion/8025,8019,08370,7247X\n",
      "<Response [200]>\n",
      "https://opendata.aemet.es/opendata/api/valores/climatologicos/diarios/datos/fechaini/2016-11-13T00:00:00UTC/fechafin/2016-12-13T00:00:00UTC/estacion/8025,8019,08370,7247X\n",
      "<Response [200]>\n",
      "https://opendata.aemet.es/opendata/api/valores/climatologicos/diarios/datos/fechaini/2016-12-14T00:00:00UTC/fechafin/2017-01-13T00:00:00UTC/estacion/8025,8019,08370,7247X\n",
      "<Response [200]>\n",
      "https://opendata.aemet.es/opendata/api/valores/climatologicos/diarios/datos/fechaini/2017-01-14T00:00:00UTC/fechafin/2017-02-13T00:00:00UTC/estacion/8025,8019,08370,7247X\n",
      "<Response [200]>\n",
      "https://opendata.aemet.es/opendata/api/valores/climatologicos/diarios/datos/fechaini/2017-02-14T00:00:00UTC/fechafin/2017-03-16T00:00:00UTC/estacion/8025,8019,08370,7247X\n",
      "<Response [429]>\n",
      "failed, sleep 1s and try again\n",
      "<Response [429]>\n",
      "failed, sleep 2s and try again\n",
      "<Response [200]>\n",
      "https://opendata.aemet.es/opendata/api/valores/climatologicos/diarios/datos/fechaini/2017-03-17T00:00:00UTC/fechafin/2017-04-16T00:00:00UTC/estacion/8025,8019,08370,7247X\n",
      "<Response [200]>\n",
      "https://opendata.aemet.es/opendata/api/valores/climatologicos/diarios/datos/fechaini/2017-04-17T00:00:00UTC/fechafin/2017-05-17T00:00:00UTC/estacion/8025,8019,08370,7247X\n",
      "<Response [200]>\n",
      "https://opendata.aemet.es/opendata/api/valores/climatologicos/diarios/datos/fechaini/2017-05-18T00:00:00UTC/fechafin/2017-06-17T00:00:00UTC/estacion/8025,8019,08370,7247X\n",
      "<Response [200]>\n",
      "https://opendata.aemet.es/opendata/api/valores/climatologicos/diarios/datos/fechaini/2017-06-18T00:00:00UTC/fechafin/2017-07-18T00:00:00UTC/estacion/8025,8019,08370,7247X\n",
      "<Response [200]>\n",
      "https://opendata.aemet.es/opendata/api/valores/climatologicos/diarios/datos/fechaini/2017-07-19T00:00:00UTC/fechafin/2017-08-18T00:00:00UTC/estacion/8025,8019,08370,7247X\n",
      "<Response [200]>\n",
      "https://opendata.aemet.es/opendata/api/valores/climatologicos/diarios/datos/fechaini/2017-08-19T00:00:00UTC/fechafin/2017-09-18T00:00:00UTC/estacion/8025,8019,08370,7247X\n",
      "<Response [200]>\n",
      "https://opendata.aemet.es/opendata/api/valores/climatologicos/diarios/datos/fechaini/2017-09-19T00:00:00UTC/fechafin/2017-10-19T00:00:00UTC/estacion/8025,8019,08370,7247X\n",
      "<Response [200]>\n",
      "https://opendata.aemet.es/opendata/api/valores/climatologicos/diarios/datos/fechaini/2017-10-20T00:00:00UTC/fechafin/2017-11-19T00:00:00UTC/estacion/8025,8019,08370,7247X\n",
      "<Response [200]>\n",
      "https://opendata.aemet.es/opendata/api/valores/climatologicos/diarios/datos/fechaini/2017-11-20T00:00:00UTC/fechafin/2017-12-20T00:00:00UTC/estacion/8025,8019,08370,7247X\n",
      "<Response [200]>\n",
      "https://opendata.aemet.es/opendata/api/valores/climatologicos/diarios/datos/fechaini/2017-12-21T00:00:00UTC/fechafin/2017-12-31T00:00:00UTC/estacion/8025,8019,08370,7247X\n",
      "<Response [200]>\n"
     ]
    }
   ],
   "source": [
    "start_date = datetime.datetime(2015, 1, 1, 0, 0, 0)\n",
    "final_date = datetime.datetime(2017, 12, 31, 0, 0, 0)\n",
    "step = datetime.timedelta(days=30)\n",
    "\n",
    "chunks = generate_chunks(start_date, final_date, step)\n",
    "\n",
    "station='8025,8019,08370,7247X'\n",
    "\n",
    "data = []\n",
    "\n",
    "for start_date, final_date in chunks:\n",
    "    url = get_daily_data_url(start_date, final_date, station)\n",
    "    print(url)\n",
    "    req_data = make_request(url)\n",
    "    data  = data + req_data\n",
    "    \n",
    "    time.sleep(1.5)\n",
    "\n",
    "# Convert to numeric\n",
    "for d in data:\n",
    "    for param in ['prec', 'presMax', 'presMin', 'racha', 'sol', 'tmax', 'tmed', 'tmin', 'velmedia', 'altitud', 'dir']:\n",
    "        try:\n",
    "            d[param] = float(d[param].replace(',', '.'))\n",
    "        except:\n",
    "            d[param] = None"
   ]
  },
  {
   "cell_type": "code",
   "execution_count": 10,
   "metadata": {},
   "outputs": [
    {
     "data": {
      "text/plain": [
       "3262"
      ]
     },
     "execution_count": 10,
     "metadata": {},
     "output_type": "execute_result"
    }
   ],
   "source": [
    "len(data)"
   ]
  },
  {
   "cell_type": "code",
   "execution_count": 11,
   "metadata": {},
   "outputs": [
    {
     "data": {
      "text/plain": [
       "{'altitud': 81.0,\n",
       " 'dir': 14.0,\n",
       " 'fecha': '2015-01-01',\n",
       " 'horaPresMax': 'Varias',\n",
       " 'horaPresMin': '00',\n",
       " 'horaracha': '14:00',\n",
       " 'horatmax': '13:20',\n",
       " 'horatmin': '07:30',\n",
       " 'indicativo': '8025',\n",
       " 'nombre': 'ALICANTE/ALACANT',\n",
       " 'prec': 0.0,\n",
       " 'presMax': 1027.2,\n",
       " 'presMin': 1019.8,\n",
       " 'provincia': 'ALICANTE',\n",
       " 'racha': 4.7,\n",
       " 'sol': 8.6,\n",
       " 'tmax': 16.0,\n",
       " 'tmed': 9.6,\n",
       " 'tmin': 3.2,\n",
       " 'velmedia': 1.4}"
      ]
     },
     "execution_count": 11,
     "metadata": {},
     "output_type": "execute_result"
    }
   ],
   "source": [
    "data[0]"
   ]
  },
  {
   "cell_type": "code",
   "execution_count": 12,
   "metadata": {},
   "outputs": [],
   "source": [
    "import pandas as pd"
   ]
  },
  {
   "cell_type": "code",
   "execution_count": 13,
   "metadata": {},
   "outputs": [],
   "source": [
    "df = pd.DataFrame(data)"
   ]
  },
  {
   "cell_type": "code",
   "execution_count": 14,
   "metadata": {},
   "outputs": [
    {
     "data": {
      "text/html": [
       "<div>\n",
       "<style scoped>\n",
       "    .dataframe tbody tr th:only-of-type {\n",
       "        vertical-align: middle;\n",
       "    }\n",
       "\n",
       "    .dataframe tbody tr th {\n",
       "        vertical-align: top;\n",
       "    }\n",
       "\n",
       "    .dataframe thead th {\n",
       "        text-align: right;\n",
       "    }\n",
       "</style>\n",
       "<table border=\"1\" class=\"dataframe\">\n",
       "  <thead>\n",
       "    <tr style=\"text-align: right;\">\n",
       "      <th></th>\n",
       "      <th>altitud</th>\n",
       "      <th>dir</th>\n",
       "      <th>fecha</th>\n",
       "      <th>horaPresMax</th>\n",
       "      <th>horaPresMin</th>\n",
       "      <th>horaracha</th>\n",
       "      <th>horatmax</th>\n",
       "      <th>horatmin</th>\n",
       "      <th>indicativo</th>\n",
       "      <th>nombre</th>\n",
       "      <th>prec</th>\n",
       "      <th>presMax</th>\n",
       "      <th>presMin</th>\n",
       "      <th>provincia</th>\n",
       "      <th>racha</th>\n",
       "      <th>sol</th>\n",
       "      <th>tmax</th>\n",
       "      <th>tmed</th>\n",
       "      <th>tmin</th>\n",
       "      <th>velmedia</th>\n",
       "    </tr>\n",
       "  </thead>\n",
       "  <tbody>\n",
       "    <tr>\n",
       "      <th>0</th>\n",
       "      <td>81.0</td>\n",
       "      <td>14.0</td>\n",
       "      <td>2015-01-01</td>\n",
       "      <td>Varias</td>\n",
       "      <td>00</td>\n",
       "      <td>14:00</td>\n",
       "      <td>13:20</td>\n",
       "      <td>07:30</td>\n",
       "      <td>8025</td>\n",
       "      <td>ALICANTE/ALACANT</td>\n",
       "      <td>0.0</td>\n",
       "      <td>1027.2</td>\n",
       "      <td>1019.8</td>\n",
       "      <td>ALICANTE</td>\n",
       "      <td>4.7</td>\n",
       "      <td>8.6</td>\n",
       "      <td>16.0</td>\n",
       "      <td>9.6</td>\n",
       "      <td>3.2</td>\n",
       "      <td>1.4</td>\n",
       "    </tr>\n",
       "    <tr>\n",
       "      <th>1</th>\n",
       "      <td>575.0</td>\n",
       "      <td>5.0</td>\n",
       "      <td>2015-01-01</td>\n",
       "      <td>NaN</td>\n",
       "      <td>NaN</td>\n",
       "      <td>06:00</td>\n",
       "      <td>15:00</td>\n",
       "      <td>06:50</td>\n",
       "      <td>7247X</td>\n",
       "      <td>PINOSO</td>\n",
       "      <td>0.0</td>\n",
       "      <td>NaN</td>\n",
       "      <td>NaN</td>\n",
       "      <td>ALICANTE</td>\n",
       "      <td>4.4</td>\n",
       "      <td>NaN</td>\n",
       "      <td>12.1</td>\n",
       "      <td>3.7</td>\n",
       "      <td>-4.7</td>\n",
       "      <td>1.1</td>\n",
       "    </tr>\n",
       "    <tr>\n",
       "      <th>2</th>\n",
       "      <td>43.0</td>\n",
       "      <td>NaN</td>\n",
       "      <td>2015-01-01</td>\n",
       "      <td>Varias</td>\n",
       "      <td>00</td>\n",
       "      <td>NaN</td>\n",
       "      <td>12:46</td>\n",
       "      <td>21:30</td>\n",
       "      <td>8019</td>\n",
       "      <td>ALICANTE-ELCHE AEROPUERTO</td>\n",
       "      <td>0.0</td>\n",
       "      <td>1033.5</td>\n",
       "      <td>1026.0</td>\n",
       "      <td>ALICANTE</td>\n",
       "      <td>NaN</td>\n",
       "      <td>6.8</td>\n",
       "      <td>15.9</td>\n",
       "      <td>10.8</td>\n",
       "      <td>5.7</td>\n",
       "      <td>1.9</td>\n",
       "    </tr>\n",
       "    <tr>\n",
       "      <th>3</th>\n",
       "      <td>81.0</td>\n",
       "      <td>19.0</td>\n",
       "      <td>2015-01-02</td>\n",
       "      <td>11</td>\n",
       "      <td>04</td>\n",
       "      <td>14:00</td>\n",
       "      <td>14:00</td>\n",
       "      <td>07:20</td>\n",
       "      <td>8025</td>\n",
       "      <td>ALICANTE/ALACANT</td>\n",
       "      <td>0.0</td>\n",
       "      <td>1028.8</td>\n",
       "      <td>1025.3</td>\n",
       "      <td>ALICANTE</td>\n",
       "      <td>4.2</td>\n",
       "      <td>8.8</td>\n",
       "      <td>18.1</td>\n",
       "      <td>10.0</td>\n",
       "      <td>2.0</td>\n",
       "      <td>1.1</td>\n",
       "    </tr>\n",
       "    <tr>\n",
       "      <th>4</th>\n",
       "      <td>575.0</td>\n",
       "      <td>99.0</td>\n",
       "      <td>2015-01-02</td>\n",
       "      <td>NaN</td>\n",
       "      <td>NaN</td>\n",
       "      <td>Varias</td>\n",
       "      <td>14:30</td>\n",
       "      <td>06:50</td>\n",
       "      <td>7247X</td>\n",
       "      <td>PINOSO</td>\n",
       "      <td>0.0</td>\n",
       "      <td>NaN</td>\n",
       "      <td>NaN</td>\n",
       "      <td>ALICANTE</td>\n",
       "      <td>2.8</td>\n",
       "      <td>NaN</td>\n",
       "      <td>16.2</td>\n",
       "      <td>5.8</td>\n",
       "      <td>-4.6</td>\n",
       "      <td>1.1</td>\n",
       "    </tr>\n",
       "  </tbody>\n",
       "</table>\n",
       "</div>"
      ],
      "text/plain": [
       "   altitud   dir       fecha horaPresMax horaPresMin horaracha horatmax  \\\n",
       "0     81.0  14.0  2015-01-01      Varias          00     14:00    13:20   \n",
       "1    575.0   5.0  2015-01-01         NaN         NaN     06:00    15:00   \n",
       "2     43.0   NaN  2015-01-01      Varias          00       NaN    12:46   \n",
       "3     81.0  19.0  2015-01-02          11          04     14:00    14:00   \n",
       "4    575.0  99.0  2015-01-02         NaN         NaN    Varias    14:30   \n",
       "\n",
       "  horatmin indicativo                     nombre  prec  presMax  presMin  \\\n",
       "0    07:30       8025           ALICANTE/ALACANT   0.0   1027.2   1019.8   \n",
       "1    06:50      7247X                    PINOSO    0.0      NaN      NaN   \n",
       "2    21:30       8019  ALICANTE-ELCHE AEROPUERTO   0.0   1033.5   1026.0   \n",
       "3    07:20       8025           ALICANTE/ALACANT   0.0   1028.8   1025.3   \n",
       "4    06:50      7247X                    PINOSO    0.0      NaN      NaN   \n",
       "\n",
       "  provincia  racha  sol  tmax  tmed  tmin  velmedia  \n",
       "0  ALICANTE    4.7  8.6  16.0   9.6   3.2       1.4  \n",
       "1  ALICANTE    4.4  NaN  12.1   3.7  -4.7       1.1  \n",
       "2  ALICANTE    NaN  6.8  15.9  10.8   5.7       1.9  \n",
       "3  ALICANTE    4.2  8.8  18.1  10.0   2.0       1.1  \n",
       "4  ALICANTE    2.8  NaN  16.2   5.8  -4.6       1.1  "
      ]
     },
     "execution_count": 14,
     "metadata": {},
     "output_type": "execute_result"
    }
   ],
   "source": [
    "df.head()"
   ]
  },
  {
   "cell_type": "code",
   "execution_count": 15,
   "metadata": {},
   "outputs": [],
   "source": [
    "interesting_cols = [\n",
    "    \"dir\",\n",
    "    \"fecha\",\n",
    "    # \"horaPresMax\",\n",
    "    # \"horaPresMin\",\n",
    "    # \"horaracha\",\n",
    "    # \"horatmax\",\n",
    "    # \"horatmin\",\n",
    "    \"indicativo\",\n",
    "    \"nombre\",\n",
    "    \"prec\",\n",
    "    \"presMax\",\n",
    "    \"presMin\",\n",
    "    \"provincia\",\n",
    "    \"racha\",\n",
    "    \"sol\",\n",
    "    \"tmax\",\n",
    "    \"tmed\",\n",
    "    \"tmin\",\n",
    "    \"velmedia\"\n",
    "]"
   ]
  },
  {
   "cell_type": "code",
   "execution_count": 16,
   "metadata": {},
   "outputs": [],
   "source": [
    "CSV_FILE = '../data/alicante_climate_AEMET.csv'"
   ]
  },
  {
   "cell_type": "code",
   "execution_count": 17,
   "metadata": {},
   "outputs": [],
   "source": [
    "df.to_csv(CSV_FILE, index=False, sep='\\t', columns=interesting_cols)"
   ]
  },
  {
   "cell_type": "code",
   "execution_count": 18,
   "metadata": {},
   "outputs": [],
   "source": [
    "with open(CSV_FILE) as f:\n",
    "    lines = f.readlines()\n",
    "    now = time.strftime(\"%c\")\n",
    "    final = [\"created on: \" + now + '\\n'*2] + lines\n",
    "\n",
    "with open(CSV_FILE, mode='w') as f:\n",
    "    f.writelines(final)"
   ]
  },
  {
   "cell_type": "code",
   "execution_count": 19,
   "metadata": {},
   "outputs": [],
   "source": [
    "df = df.loc[df['indicativo'] == '8025']"
   ]
  },
  {
   "cell_type": "code",
   "execution_count": 20,
   "metadata": {},
   "outputs": [],
   "source": [
    "CSV_FILE = '../data/alicante_city_climate_AEMET.csv'"
   ]
  },
  {
   "cell_type": "code",
   "execution_count": 21,
   "metadata": {},
   "outputs": [],
   "source": [
    "df.to_csv(CSV_FILE, index=False, sep='\\t', columns=interesting_cols)"
   ]
  },
  {
   "cell_type": "code",
   "execution_count": 22,
   "metadata": {},
   "outputs": [],
   "source": [
    "with open(CSV_FILE) as f:\n",
    "    lines = f.readlines()\n",
    "    now = time.strftime(\"%c\")\n",
    "    final = [\"created on: \" + now + '\\n'*2] + lines\n",
    "\n",
    "with open(CSV_FILE, mode='w') as f:\n",
    "    f.writelines(final)"
   ]
  }
 ],
 "metadata": {
  "kernelspec": {
   "display_name": "Python 3",
   "language": "python",
   "name": "python3"
  },
  "language_info": {
   "codemirror_mode": {
    "name": "ipython",
    "version": 3
   },
   "file_extension": ".py",
   "mimetype": "text/x-python",
   "name": "python",
   "nbconvert_exporter": "python",
   "pygments_lexer": "ipython3",
   "version": "3.6.4"
  }
 },
 "nbformat": 4,
 "nbformat_minor": 2
}
